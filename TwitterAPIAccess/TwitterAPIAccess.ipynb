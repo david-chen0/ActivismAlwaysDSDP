{
 "cells": [
  {
   "cell_type": "markdown",
   "id": "289771b8",
   "metadata": {},
   "source": [
    "# Twitter API Access"
   ]
  },
  {
   "cell_type": "markdown",
   "id": "74a62b9d",
   "metadata": {},
   "source": [
    "## Setup"
   ]
  },
  {
   "cell_type": "code",
   "execution_count": 2,
   "id": "fd4ab9e2",
   "metadata": {},
   "outputs": [],
   "source": [
    "APIKey = \"KBLDVpw7gBkGWbHVLxvRZ5qyq\"\n",
    "APIKeySecret = \"FRdQAZChE2PTbrzqLuYDANSNKXmGflB1UAd7Td6GXRiZoF9Qli\"\n",
    "APIBearerToken = \"AAAAAAAAAAAAAAAAAAAAAHixZAEAAAAA%2FZzH7ruRjq6uBKjbkJzq73z3fAU%3DR16tK3SzOlQoONoowIPamUgolYjymtM9ObU0DXTj9fYdNyYnjq\"\n",
    "\n",
    "import requests\n",
    "import json"
   ]
  },
  {
   "cell_type": "markdown",
   "id": "ac9e34dc",
   "metadata": {},
   "source": [
    "## Get Tweets"
   ]
  },
  {
   "cell_type": "code",
   "execution_count": 12,
   "id": "9845a745",
   "metadata": {},
   "outputs": [
    {
     "name": "stdout",
     "output_type": "stream",
     "text": [
      "{'meta': {'result_count': 0}}\n"
     ]
    }
   ],
   "source": [
    "def create_url():\n",
    "    query = \"from%3Atwitterdev%20new%20-is%3Aretweet&max_results=10\"\n",
    "    url = \"https://api.twitter.com/2/tweets/search/recent?query={}\".format(query)\n",
    "    return url\n",
    "\n",
    "url = create_url()\n",
    "\n",
    "def bearerAuth(r):\n",
    "    r.headers[\"Authorization\"] = \"Bearer {}\".format(APIBearerToken)\n",
    "    r.headers[\"User-Agent\"] = \"v2TweetLookupPython\"\n",
    "    return r\n",
    "\n",
    "def connectToEndpoint(url):\n",
    "    response = requests.request(\"GET\", url, auth=bearerAuth)\n",
    "    if response.status_code != 200:\n",
    "        raise Exception(response.status_code, response.text)\n",
    "    return response.json()\n",
    "\n",
    "jsonResponse = connectToEndpoint(url)\n",
    "print(jsonResponse)"
   ]
  },
  {
   "cell_type": "markdown",
   "id": "c904eabe",
   "metadata": {},
   "source": [
    "## Get User Data"
   ]
  },
  {
   "cell_type": "code",
   "execution_count": null,
   "id": "ff206f0b",
   "metadata": {},
   "outputs": [],
   "source": []
  }
 ],
 "metadata": {
  "kernelspec": {
   "display_name": "Python 3",
   "language": "python",
   "name": "python3"
  },
  "language_info": {
   "codemirror_mode": {
    "name": "ipython",
    "version": 3
   },
   "file_extension": ".py",
   "mimetype": "text/x-python",
   "name": "python",
   "nbconvert_exporter": "python",
   "pygments_lexer": "ipython3",
   "version": "3.6.13"
  }
 },
 "nbformat": 4,
 "nbformat_minor": 5
}
