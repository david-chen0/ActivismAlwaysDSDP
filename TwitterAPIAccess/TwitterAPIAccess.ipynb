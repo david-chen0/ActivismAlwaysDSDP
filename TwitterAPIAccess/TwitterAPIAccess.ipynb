{
 "cells": [
  {
   "cell_type": "markdown",
   "id": "289771b8",
   "metadata": {},
   "source": [
    "# Twitter API Access"
   ]
  },
  {
   "cell_type": "markdown",
   "id": "74a62b9d",
   "metadata": {},
   "source": [
    "## Setup"
   ]
  },
  {
   "cell_type": "code",
   "execution_count": 2,
   "id": "fd4ab9e2",
   "metadata": {},
   "outputs": [],
   "source": [
    "APIKey = \"KBLDVpw7gBkGWbHVLxvRZ5qyq\"\n",
    "APIKeySecret = \"FRdQAZChE2PTbrzqLuYDANSNKXmGflB1UAd7Td6GXRiZoF9Qli\"\n",
    "APIBearerToken = \"AAAAAAAAAAAAAAAAAAAAAHixZAEAAAAA%2FZzH7ruRjq6uBKjbkJzq73z3fAU%3DR16tK3SzOlQoONoowIPamUgolYjymtM9ObU0DXTj9fYdNyYnjq\"\n",
    "\n",
    "import requests\n",
    "import json"
   ]
  },
  {
   "cell_type": "markdown",
   "id": "ac9e34dc",
   "metadata": {},
   "source": [
    "## Get Tweets"
   ]
  },
  {
   "cell_type": "code",
   "execution_count": 15,
   "id": "9845a745",
   "metadata": {},
   "outputs": [
    {
     "name": "stdout",
     "output_type": "stream",
     "text": [
      "[{'id': '1278747501642657792', 'author_id': '2244994945', 'lang': 'en', 'text': \"It's been a year since Twitter's Developer Labs launched.\\n\\nAs we build towards the next generation of the #TwitterAPI (coming VERY soon), see what we've learned and changed along the way. https://t.co/WvjuEWCa6G\"}, {'id': '1255542774432063488', 'author_id': '2244994945', 'lang': 'en', 'text': \"During these unprecedented times, what’s happening on Twitter can help the world better understand &amp; respond to the pandemic. \\n\\nWe're launching a free COVID-19 stream endpoint so qualified devs &amp; researchers can study the public conversation in real-time. https://t.co/BPqMcQzhId\"}]\n"
     ]
    }
   ],
   "source": [
    "def create_url():\n",
    "    tweet_fields = \"tweet.fields=lang,author_id\"\n",
    "    # Tweet fields are adjustable.\n",
    "    # Options include:\n",
    "    # attachments, author_id, context_annotations,\n",
    "    # conversation_id, created_at, entities, geo, id,\n",
    "    # in_reply_to_user_id, lang, non_public_metrics, organic_metrics,\n",
    "    # possibly_sensitive, promoted_metrics, public_metrics, referenced_tweets,\n",
    "    # source, text, and withheld\n",
    "    ids = \"ids=1278747501642657792,1255542774432063488\"\n",
    "    # You can adjust ids to include a single Tweets.\n",
    "    # Or you can add to up to 100 comma-separated IDs\n",
    "    url = \"https://api.twitter.com/2/tweets?{}&{}\".format(ids, tweet_fields)\n",
    "    return url\n",
    "\n",
    "url = create_url()\n",
    "\n",
    "def bearerAuth(r):\n",
    "    r.headers[\"Authorization\"] = \"Bearer {}\".format(APIBearerToken)\n",
    "    r.headers[\"User-Agent\"] = \"v2TweetLookupPython\"\n",
    "    return r\n",
    "\n",
    "def connectToEndpoint(url):\n",
    "    response = requests.request(\"GET\", url, auth=bearerAuth)\n",
    "    if response.status_code != 200:\n",
    "        raise Exception(response.status_code, response.text)\n",
    "    return response.json()\n",
    "\n",
    "jsonResponse = connectToEndpoint(url)\n",
    "print(jsonResponse['data'])"
   ]
  },
  {
   "cell_type": "markdown",
   "id": "c904eabe",
   "metadata": {},
   "source": [
    "## Get User Data"
   ]
  },
  {
   "cell_type": "code",
   "execution_count": null,
   "id": "ff206f0b",
   "metadata": {},
   "outputs": [],
   "source": []
  }
 ],
 "metadata": {
  "kernelspec": {
   "display_name": "Python 3",
   "language": "python",
   "name": "python3"
  },
  "language_info": {
   "codemirror_mode": {
    "name": "ipython",
    "version": 3
   },
   "file_extension": ".py",
   "mimetype": "text/x-python",
   "name": "python",
   "nbconvert_exporter": "python",
   "pygments_lexer": "ipython3",
   "version": "3.6.13"
  }
 },
 "nbformat": 4,
 "nbformat_minor": 5
}
